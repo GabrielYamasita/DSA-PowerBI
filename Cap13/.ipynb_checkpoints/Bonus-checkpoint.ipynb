{
 "cells": [
  {
   "cell_type": "markdown",
   "metadata": {},
   "source": [
    "## Bônus\n",
    "\n",
    "### É Possível Criar Gráfico Interativo com Python no Power BI?"
   ]
  },
  {
   "cell_type": "code",
   "execution_count": null,
   "metadata": {},
   "outputs": [],
   "source": [
    "!pip install jupyter-dash\n",
    "\n",
    "# Imports\n",
    "import plotly.express as px\n",
    "import plotly.graph_objects as go\n",
    "# Importa o dataset\n",
    "dataset = px.data.iris()"
   ]
  },
  {
   "cell_type": "code",
   "execution_count": null,
   "metadata": {},
   "outputs": [],
   "source": [
    "# Dadoos\n",
    "dataset.head()"
   ]
  },
  {
   "cell_type": "code",
   "execution_count": null,
   "metadata": {},
   "outputs": [],
   "source": [
    "# Imports\n",
    "import plotly.express as px\n",
    "import plotly.graph_objects as go\n",
    "import numpy as np\n",
    "from sklearn.svm import SVR\n",
    "\n",
    "# Parâmetros\n",
    "mesh_size = .02\n",
    "margin = 0\n",
    "\n",
    "# Dataset\n",
    "df = px.data.iris()\n",
    "\n",
    "# Variáveis\n",
    "X = df[['sepal_width', 'sepal_length']]\n",
    "y = df['petal_width']\n",
    "\n",
    "# Cria o modelo de Machine Learning\n",
    "modelo = SVR(C=1.)\n",
    "\n",
    "# Treina o modelo\n",
    "modelo.fit(X, y)\n",
    "\n",
    "# Mesh grid para mostrar o resultado do modelo\n",
    "x_min, x_max = X.sepal_width.min() - margin, X.sepal_width.max() + margin\n",
    "y_min, y_max = X.sepal_length.min() - margin, X.sepal_length.max() + margin\n",
    "xrange = np.arange(x_min, x_max, mesh_size)\n",
    "yrange = np.arange(y_min, y_max, mesh_size)\n",
    "xx, yy = np.meshgrid(xrange, yrange)\n",
    "\n",
    "# Previsões com o modelo\n",
    "pred = modelo.predict(np.c_[xx.ravel(), yy.ravel()])\n",
    "pred = pred.reshape(xx.shape)\n",
    "\n",
    "# Gera o plot 3D\n",
    "fig = px.scatter_3d(df, x = 'sepal_width', y = 'sepal_length', z = 'petal_width')\n",
    "fig.update_traces(marker = dict(size=5))\n",
    "fig.add_traces(go.Surface(x = xrange, y = yrange, z = pred, name = 'pred_surface'))\n",
    "fig.show()"
   ]
  },
  {
   "cell_type": "markdown",
   "metadata": {},
   "source": [
    "# Fim"
   ]
  },
  {
   "cell_type": "code",
   "execution_count": null,
   "metadata": {},
   "outputs": [],
   "source": []
  }
 ],
 "metadata": {
  "kernelspec": {
   "display_name": "Python 3",
   "language": "python",
   "name": "python3"
  },
  "language_info": {
   "codemirror_mode": {
    "name": "ipython",
    "version": 3
   },
   "file_extension": ".py",
   "mimetype": "text/x-python",
   "name": "python",
   "nbconvert_exporter": "python",
   "pygments_lexer": "ipython3",
   "version": "3.8.8"
  }
 },
 "nbformat": 4,
 "nbformat_minor": 4
}
